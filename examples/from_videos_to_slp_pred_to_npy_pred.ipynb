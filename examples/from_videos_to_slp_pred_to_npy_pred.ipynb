{
 "nbformat": 4,
 "nbformat_minor": 0,
 "metadata": {
  "colab": {
   "provenance": []
  },
  "kernelspec": {
   "name": "python3",
   "display_name": "Python 3"
  },
  "language_info": {
   "name": "python"
  }
 },
 "cells": [
  {
   "cell_type": "markdown",
   "source": [
    "# Imports"
   ],
   "metadata": {
    "id": "TvYfhCtgLUCm",
    "pycharm": {
     "name": "#%% md\n"
    }
   }
  },
  {
   "cell_type": "markdown",
   "source": [
    "Install sleap"
   ],
   "metadata": {
    "id": "KTuqEAU59gzM",
    "pycharm": {
     "name": "#%% md\n"
    }
   }
  },
  {
   "cell_type": "code",
   "source": [
    "! pip install sleap"
   ],
   "metadata": {
    "id": "PdsMmPBK9imU",
    "pycharm": {
     "name": "#%%\n"
    }
   },
   "execution_count": null,
   "outputs": []
  },
  {
   "cell_type": "code",
   "execution_count": null,
   "metadata": {
    "id": "3t2uTF8BLDQd",
    "pycharm": {
     "name": "#%%\n"
    }
   },
   "outputs": [],
   "source": [
    "import os\n",
    "import numpy as np\n",
    "import sleap"
   ]
  },
  {
   "cell_type": "markdown",
   "source": [
    "# Load the Data"
   ],
   "metadata": {
    "id": "ZT9WFewyOiV7",
    "pycharm": {
     "name": "#%% md\n"
    }
   }
  },
  {
   "cell_type": "code",
   "source": [
    "from google.colab import drive\n",
    "drive.mount('/content/drive')"
   ],
   "metadata": {
    "id": "TSSvUDs0Okwa",
    "colab": {
     "base_uri": "https://localhost:8080/"
    },
    "outputId": "ff2b5e68-9fbb-4f16-91ec-cb1028e02232",
    "pycharm": {
     "name": "#%%\n"
    }
   },
   "execution_count": 1,
   "outputs": [
    {
     "output_type": "stream",
     "name": "stdout",
     "text": [
      "Mounted at /content/drive\n"
     ]
    }
   ]
  },
  {
   "cell_type": "markdown",
   "source": [
    "Download the `cropped_video1080.zip ` from Google Drive (https://drive.google.com/drive/folders/1xzN19rTxewEiwzeBN3g88w5UBN2Z0Z0S?usp=share_link) and add it to your Drive or local directory if you are not using Google Colab.\n",
    "\n",
    "Next step is to unzip the file."
   ],
   "metadata": {
    "id": "13LpzJOxdC3R",
    "pycharm": {
     "name": "#%% md\n"
    }
   }
  },
  {
   "cell_type": "code",
   "source": [
    "! unzip \"cropped_video1080.zip\""
   ],
   "metadata": {
    "id": "ui5GvC5Xcz3B",
    "pycharm": {
     "name": "#%%\n"
    }
   },
   "execution_count": null,
   "outputs": []
  },
  {
   "cell_type": "markdown",
   "source": [
    "# Utility Functions/Classes\n",
    "To obtain the prediction in a numpy format that we can use to train and/or our models we need to obtain the slp (i.e., sleap) predictions from the video using the model trained using SLEAP. Then with those predictions we can obtain the numpies."
   ],
   "metadata": {
    "id": "kZRldE9BLeBT",
    "pycharm": {
     "name": "#%% md\n"
    }
   }
  },
  {
   "cell_type": "markdown",
   "source": [
    "## From videos to SLP\n",
    "From a mp4 video file it obtaines the slp prediction.\n",
    "\n",
    "In the code the following functions is located in `poseestimation.predictionheandling`."
   ],
   "metadata": {
    "id": "lPQxzxIcMorS",
    "pycharm": {
     "name": "#%% md\n"
    }
   }
  },
  {
   "cell_type": "code",
   "source": [
    "def get_predictions(video_path: str, model_path: str, pred_output: str, with_images: bool):\n",
    "    \"\"\"\n",
    "    Gets the prediction from a video using a specific trained model, and saves it as a slp file\n",
    "    :param with_images: boolean indicating if the predictions must contain also the images\n",
    "    :param video_path: string indicating the path to the video\n",
    "    :param model_path: string indicating the path to the model\n",
    "    :param pred_output: string indicating where the predictions are saved\n",
    "    :return:\n",
    "    \"\"\"\n",
    "    sleap.disable_preallocation()\n",
    "\n",
    "    video = sleap.load_video(video_path)\n",
    "    print(video.shape)\n",
    "\n",
    "    predictor = sleap.load_model(model_path)\n",
    "    predictions = predictor.predict(video)\n",
    "\n",
    "    predictions = sleap.Labels(predictions.labeled_frames[:])\n",
    "    predictions.save(pred_output, with_images=with_images, embed_all_labeled=True)"
   ],
   "metadata": {
    "id": "FyrpZHtI96k4",
    "pycharm": {
     "name": "#%%\n"
    }
   },
   "execution_count": null,
   "outputs": []
  },
  {
   "cell_type": "markdown",
   "source": [
    "## From SLP to numpy\n",
    "From a slp file it obtaines the corresponding numpy in the format (10, frames), where 10 is the number of joints times 2, i.e., the coordinates x and y. In the order the joints are:\n",
    "\n",
    "\n",
    "*   Head\n",
    "*   Right beginning of the antenna\n",
    "* Right tip of the antenna\n",
    "*   Left beginning of the antenna\n",
    "* Left tip of the antenna\n",
    "\n",
    "\n",
    "In the code this following function is located in `posestimation.predictionhandling`"
   ],
   "metadata": {
    "id": "e4S01DLH-2qj",
    "pycharm": {
     "name": "#%% md\n"
    }
   }
  },
  {
   "cell_type": "code",
   "source": [
    "def obtain_np_seq_from_slp_pred(predictions_path, output_path: str):\n",
    "    \"\"\"\n",
    "    Save in a npy file the predictions from a slp file\n",
    "    :param predictions_path: path to where the slp file is located\n",
    "    :param output_path: path where to save the npy file containing the predictions\n",
    "    :return:\n",
    "    \"\"\"\n",
    "    predictions = sleap.load_file(predictions_path)\n",
    "    dataset = []\n",
    "    for label in predictions:\n",
    "        frame_pred = []\n",
    "        for values in label[0].numpy():\n",
    "            frame_pred.append(values[0])\n",
    "            frame_pred.append(values[1])\n",
    "        dataset.append(frame_pred)\n",
    "\n",
    "    np.save(output_path, dataset)"
   ],
   "metadata": {
    "id": "L8ykhuap97PW",
    "pycharm": {
     "name": "#%%\n"
    }
   },
   "execution_count": null,
   "outputs": []
  },
  {
   "cell_type": "markdown",
   "source": [
    "# Perform Prediction and SLP to npy transformation"
   ],
   "metadata": {
    "id": "8BCTesCHBoEe",
    "pycharm": {
     "name": "#%% md\n"
    }
   }
  },
  {
   "cell_type": "markdown",
   "source": [
    "Here you need to set the path to the appropriate locations and to tell the code if you want to save also the images when predicting each video frame. If you do that set `save_slp_with_images=True`, in this way you can open the slp prediction in your SLEAP GUI and analyze how the results are. Be aware that this operation costs a lot of additional memory, thus we recommend to set the value to `True` only if you want to see the results on SLEAP otherwise is better to have it at `False` (i.e., only the predictions without the images/frames will be saves in the slp files)."
   ],
   "metadata": {
    "id": "_ho-hBkwBvAX",
    "pycharm": {
     "name": "#%% md\n"
    }
   }
  },
  {
   "cell_type": "code",
   "source": [
    "video_path = 'videos 2 minutes'\n",
    "prediction_slp_path = 'predictions_slp' # directory to where the slp files will be saved\n",
    "save_slp_with_images = True\n",
    "prediction_npy_path = 'predictions_npy' # directory to where the npy files will be saved"
   ],
   "metadata": {
    "id": "jFVwHSXkBt7m",
    "pycharm": {
     "name": "#%%\n"
    }
   },
   "execution_count": null,
   "outputs": []
  },
  {
   "cell_type": "markdown",
   "source": [
    "If the directories referred by prediction_slp_path and prediction_npy_path do not exist, there is the need to create them. If they exists the following snippet will do nothing, so you can skip it."
   ],
   "metadata": {
    "id": "Doey70K5DtWG",
    "pycharm": {
     "name": "#%% md\n"
    }
   }
  },
  {
   "cell_type": "code",
   "source": [
    "if not os.path.exists(prediction_slp_path):\n",
    "    os.mkdir(prediction_slp_path)\n",
    "if not os.path.exists(prediction_npy_path):\n",
    "    os.mkdir(prediction_npy_path)"
   ],
   "metadata": {
    "id": "V62z8QfHEcTN",
    "pycharm": {
     "name": "#%%\n"
    }
   },
   "execution_count": null,
   "outputs": []
  },
  {
   "cell_type": "markdown",
   "source": [
    "Now we need to navigate the directories performing first the prediction and then the transformation to numpy."
   ],
   "metadata": {
    "id": "BMYqZEI3E49m",
    "pycharm": {
     "name": "#%% md\n"
    }
   }
  },
  {
   "cell_type": "code",
   "source": [
    "classes = os.listdir(video_path)\n",
    "for c in classes: # control sugar ammonia ..\n",
    "    if c not in ['control', 'sugar', 'ammonia']:\n",
    "        continue\n",
    "    class_path = os.path.join(video_path, c) # e.g., videos/control/\n",
    "    sets = os.listdir(class_path)\n",
    "\n",
    "    prediction_class_slp_path = os.path.join(prediction_slp_path, c)    # e.g., predictions_slp/control\n",
    "    os.mkdir(prediction_class_slp_path)\n",
    "\n",
    "    prediction_class_npy_path = os.path.join(prediction_npy_path, c)  # e.g., predictions_npy/control\n",
    "    os.mkdir(prediction_class_npy_path)\n",
    "\n",
    "    for s in sets: # train # test # val\n",
    "        if s not in ['train', 'test', 'val']:\n",
    "            continue\n",
    "\n",
    "        set_path = os.path.join(class_path, s)  # e.g., video/control/train\n",
    "        videos = [video for video in os.listdir(set_path) if video.endswith('.mp4')]\n",
    "\n",
    "        prediction_set_slp_path = os.path.join(prediction_class_slp_path, s)\n",
    "        os.mkdir(prediction_set_slp_path)\n",
    "\n",
    "        prediction_set_npy_path = os.path.join(prediction_class_npy_path, s)\n",
    "        os.mkdir(prediction_set_npy_path)\n",
    "\n",
    "        for video in videos:\n",
    "            get_predictions(\n",
    "                os.path.join(set_path, video),\n",
    "                'm64_64_1.0/221226_195308.single_instance',\n",
    "                os.path.join(prediction_set_slp_path, video[:-4] + '.pkg.slp'),\n",
    "                save_slp_with_images\n",
    "            )\n",
    "\n",
    "            obtain_np_seq_from_slp_pred(\n",
    "                os.path.join(prediction_set_slp_path, video[:-4] + '.pkg.slp'),\n",
    "                os.path.join(prediction_set_npy_path, video[:-4] + '.npy')\n",
    "            )"
   ],
   "metadata": {
    "id": "dWd0Kr7xNA9H",
    "pycharm": {
     "name": "#%%\n"
    }
   },
   "execution_count": null,
   "outputs": []
  }
 ]
}