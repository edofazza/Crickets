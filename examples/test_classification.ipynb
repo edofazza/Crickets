{
 "nbformat": 4,
 "nbformat_minor": 0,
 "metadata": {
  "colab": {
   "provenance": []
  },
  "kernelspec": {
   "name": "python3",
   "display_name": "Python 3"
  },
  "language_info": {
   "name": "python"
  }
 },
 "cells": [
  {
   "cell_type": "markdown",
   "source": [
    "# Imports"
   ],
   "metadata": {
    "id": "kWmLrkJx6ShY",
    "pycharm": {
     "name": "#%% md\n"
    }
   }
  },
  {
   "cell_type": "code",
   "source": [
    "import tensorflow as tf\n",
    "from tensorflow import keras as ks\n",
    "from sklearn.metrics import confusion_matrix\n",
    "import os\n",
    "import numpy as np\n",
    "import seaborn as sn\n",
    "import matplotlib.pyplot as plt\n",
    "import pandas as pd"
   ],
   "metadata": {
    "id": "RQVWtAAVZCu3",
    "pycharm": {
     "name": "#%%\n"
    }
   },
   "execution_count": 1,
   "outputs": []
  },
  {
   "cell_type": "markdown",
   "source": [
    "# Load the Data"
   ],
   "metadata": {
    "id": "dUwpkuP-6VKJ",
    "pycharm": {
     "name": "#%% md\n"
    }
   }
  },
  {
   "cell_type": "code",
   "source": [
    "from google.colab import drive\n",
    "drive.mount('/content/drive')"
   ],
   "metadata": {
    "colab": {
     "base_uri": "https://localhost:8080/"
    },
    "outputId": "8e16754f-3d08-4f44-8574-6063d376a71f",
    "id": "1nmDlJroZCu1",
    "pycharm": {
     "name": "#%%\n"
    }
   },
   "execution_count": 2,
   "outputs": [
    {
     "output_type": "stream",
     "name": "stdout",
     "text": [
      "Mounted at /content/drive\n"
     ]
    }
   ]
  },
  {
   "cell_type": "markdown",
   "source": [
    "Download the `prediction_head_centered.zip ` from Google Drive (https://drive.google.com/drive/folders/1xzN19rTxewEiwzeBN3g88w5UBN2Z0Z0S?usp=share_link) and had it to your Drive or local directory if you are not using Google Colab.\n",
    "\n",
    "Next step is to unzip the file."
   ],
   "metadata": {
    "id": "Y21lby0VGY8P",
    "pycharm": {
     "name": "#%% md\n"
    }
   }
  },
  {
   "cell_type": "code",
   "source": [
    "! unzip 'prediction_head_centered.zip'"
   ],
   "metadata": {
    "id": "sB_-bbgV6aK0",
    "pycharm": {
     "name": "#%%\n"
    }
   },
   "execution_count": null,
   "outputs": []
  },
  {
   "cell_type": "markdown",
   "source": [
    "# Utility Functions\n",
    "To perform the analysis of the model we need some utily functions."
   ],
   "metadata": {
    "id": "n-x8nr9A37wd",
    "pycharm": {
     "name": "#%% md\n"
    }
   }
  },
  {
   "cell_type": "markdown",
   "source": [
    "## Create the Dataset\n",
    "The following functions are needed for creating the numpy dataset. There is a short explanation to all of them after each declaration.\n",
    "\n",
    "In the code these functions are located in `utils.sequence_handling`"
   ],
   "metadata": {
    "id": "DAQtINkwGol2",
    "pycharm": {
     "name": "#%% md\n"
    }
   }
  },
  {
   "cell_type": "code",
   "execution_count": 5,
   "metadata": {
    "id": "mOlnCnCZ2G_Z",
    "pycharm": {
     "name": "#%%\n"
    }
   },
   "outputs": [],
   "source": [
    "def divide_sequence(sequence, length):\n",
    "    \"\"\"\n",
    "    From a sequence (joints_axis, frames) the function reduces the frame-length to\n",
    "    sequences of shape (joints_axis, length) and store them in a new np.array that\n",
    "    the function returns\n",
    "    :param sequence: numpy sequence\n",
    "    :param length: size of the window\n",
    "    :return: np.array containing all subsequences obtained from sequence\n",
    "    \"\"\"\n",
    "    if length == 3480:\n",
    "        return np.array(sequence)\n",
    "    _, dim = sequence.shape\n",
    "    tmp = []\n",
    "    for i in range(dim - length):\n",
    "        tmp_seq = sequence[:, i:i + length]\n",
    "        tmp.append(tmp_seq)\n",
    "    return np.array(tmp)\n",
    "\n",
    "\n",
    "def normalize(x):\n",
    "    \"\"\"\n",
    "    Normalize values in a sequence x considering its last axis\n",
    "    :param x: sequence\n",
    "    :return: normalized sequence\n",
    "    \"\"\"\n",
    "    return tf.keras.utils.normalize(x, axis=-1)\n",
    "\n",
    "\n",
    "def create_dataset(first_stimulus_path, second_stimulus_path, third_stimulus_path=None, length=3480):\n",
    "    \"\"\"\n",
    "    Create numpy dataset\n",
    "    :param first_stimulus_path: path to the numpy directory containing the npy sequences for the first stimulus\n",
    "    :param second_stimulus_path: path to the numpy directory containing the npy sequences for the second stimulus\n",
    "    :param third_stimulus_path: path to the numpy directory containing the npy third for the first stimulus (if None it will not be considered, i.e., binary case)\n",
    "    :param length: length of the (sub)sequences, in our case we use as default the total length (3480)\n",
    "    :return: a tuple in the form (data, labels)\n",
    "    \"\"\"\n",
    "    if length < 3480:\n",
    "        data = None\n",
    "    else:\n",
    "        data = []\n",
    "    labels = []\n",
    "    tmp_list = [c for c in os.listdir(first_stimulus_path) if c.endswith('.npy')]\n",
    "    for i in tmp_list:\n",
    "        tmp_npy = np.load(os.path.join(first_stimulus_path, i))\n",
    "        labels.append(0)\n",
    "        if type(data) is list:\n",
    "            data.append(tmp_npy)\n",
    "        else:\n",
    "            if data is None:\n",
    "                data = divide_sequence(tmp_npy, length)\n",
    "            else:\n",
    "                data = np.r_[data, divide_sequence(tmp_npy, length)]\n",
    "\n",
    "    tmp_list = [c for c in os.listdir(second_stimulus_path) if c.endswith('.npy')]\n",
    "    for i in tmp_list:\n",
    "        tmp_npy = np.load(os.path.join(second_stimulus_path, i))\n",
    "        labels.append(1)\n",
    "        if type(data) is list:\n",
    "            data.append(tmp_npy)\n",
    "        else:\n",
    "            data = np.r_[data, divide_sequence(tmp_npy, length)]\n",
    "\n",
    "    if third_stimulus_path is not None:\n",
    "        tmp_list = [c for c in os.listdir(third_stimulus_path) if c.endswith('.npy')]\n",
    "        for i in tmp_list:\n",
    "            tmp_npy = np.load(os.path.join(third_stimulus_path, i))\n",
    "            labels.append(2)\n",
    "            if type(data) is list:\n",
    "                data.append(tmp_npy)\n",
    "            else:\n",
    "                data = np.r_[data, divide_sequence(tmp_npy, length)]\n",
    "\n",
    "    if type(data) is list:\n",
    "        return normalize(np.array(data)), np.array(labels)\n",
    "    else:\n",
    "        return normalize(data), np.array(labels)"
   ]
  },
  {
   "cell_type": "markdown",
   "source": [
    "## Evaluate the model\n",
    "For evaluating the model we can plot the confusion matrix with the following function. In the code the function is located in `utils.visualize`"
   ],
   "metadata": {
    "id": "SKagSRj0316H",
    "pycharm": {
     "name": "#%% md\n"
    }
   }
  },
  {
   "cell_type": "code",
   "source": [
    "def conf_matrix(model_path, stim1_dir_path, stim2_dir_path, stim3_dir_path=None, ranges=['control', 'sugar'],\n",
    "                save_png=True, path_png='plot.png'):\n",
    "    \"\"\"\n",
    "    Generate the confusion matrix\n",
    "    :param model_path: path to the model\n",
    "    :param stim1_dir_path: path to the directory containing the npy related to the first stimulus\n",
    "    :param stim2_dir_path: path to the directory containing the npy related to the second stimulus\n",
    "    :param stim3_dir_path: path to the directory containing the npy related to the third stimulus (can be None)\n",
    "    :param ranges: list of strings indicating the classes\n",
    "    :param save_png: boolean, True to save the confusion matrix into a png\n",
    "    :param path_png: if save_png is True the confusion matrix image is saved using this path\n",
    "    :return:\n",
    "    \"\"\"\n",
    "    data, labels = create_dataset(\n",
    "        stim1_dir_path,\n",
    "        stim2_dir_path,\n",
    "        stim3_dir_path if stim3_dir_path is None else stim3_dir_path\n",
    "    )\n",
    "\n",
    "    model = ks.models.load_model(model_path)\n",
    "    preds = model.predict(data, verbose=False)\n",
    "    if stim3_dir_path is None:\n",
    "        preds = [1 if pred > 0.5 else 0 for pred in preds]\n",
    "    else:\n",
    "        preds = np.argmax(preds, axis=-1)\n",
    "    cf = confusion_matrix(labels, preds)\n",
    "    df_cm = pd.DataFrame(cf, ranges, ranges)\n",
    "    sn.set(font_scale=1.4)\n",
    "    fig = sn.heatmap(df_cm, annot=True, annot_kws={'size': 16}).get_figure()\n",
    "    if save_png:\n",
    "        fig.savefig(path_png)"
   ],
   "metadata": {
    "id": "6aPg_4iV30fc",
    "pycharm": {
     "name": "#%%\n"
    }
   },
   "execution_count": 13,
   "outputs": []
  },
  {
   "cell_type": "markdown",
   "source": [
    "The following function performs the `model.evaluate `for all the sets printing the results."
   ],
   "metadata": {
    "id": "biXtS0cB-FEx",
    "pycharm": {
     "name": "#%% md\n"
    }
   }
  },
  {
   "cell_type": "code",
   "source": [
    "def evaluate(train_set, train_labels, val_set, val_labels, test_set, test_labels, model_name):\n",
    "    model = tf.keras.models.load_model(model_name)\n",
    "    train_loss, train_accuracy = model.evaluate(train_set, train_labels, verbose=False)\n",
    "    val_loss, val_accuracy = model.evaluate(val_set, val_labels, verbose=False)\n",
    "    test_loss, test_accuracy = model.evaluate(test_set, test_labels, verbose=False)\n",
    "    print(f'{model_name}:\\n\\tTrain loss: {train_loss}\\n\\tTrain accuracy: {train_accuracy}\\n\\tVal loss: {val_loss}\\n\\tVal accuracy: {val_accuracy}\\n\\tTest loss: {test_loss}\\n\\tTest accuracy: {test_accuracy}')"
   ],
   "metadata": {
    "id": "7MuaEcLC-GEm",
    "pycharm": {
     "name": "#%%\n"
    }
   },
   "execution_count": 7,
   "outputs": []
  },
  {
   "cell_type": "markdown",
   "source": [
    "# Test Classification\n",
    "Change the following variables in order to match you path for prediction_head_centered and the path related to the model. Remember that if you are using a binary classification model (e.g., control-sugar) it is important to change also the `n_classes` variable along with the `classes` list."
   ],
   "metadata": {
    "id": "4mpztcz077PE",
    "pycharm": {
     "name": "#%% md\n"
    }
   }
  },
  {
   "cell_type": "code",
   "source": [
    "path = 'prediction_head_centered'\n",
    "model_path = 'best3classes.keras'\n",
    "n_classes = 3\n",
    "classes = ['control', 'sugar', 'ammonia']"
   ],
   "metadata": {
    "id": "shyKlkwL7-Dl",
    "pycharm": {
     "name": "#%%\n"
    }
   },
   "execution_count": 8,
   "outputs": []
  },
  {
   "cell_type": "markdown",
   "source": [
    "Let's create the numpy sets"
   ],
   "metadata": {
    "id": "afD6whFRLMx2",
    "pycharm": {
     "name": "#%% md\n"
    }
   }
  },
  {
   "cell_type": "code",
   "source": [
    "train_set, train_labels = create_dataset(\n",
    "    os.path.join(path, classes[0] + '/train/'),\n",
    "    os.path.join(path, classes[1] + '/train/'),\n",
    "    os.path.join(path, classes[2] + '/train/') if n_classes == 3 else None\n",
    ")\n",
    "val_set, val_labels = create_dataset(\n",
    "    os.path.join(path, classes[0] + '/val/'),\n",
    "    os.path.join(path, classes[1] + '/val/'),\n",
    "    os.path.join(path, classes[2] + '/val/') if n_classes == 3 else None\n",
    ")\n",
    "test_set, test_labels = create_dataset(\n",
    "    os.path.join(path, classes[0] + '/test/'),\n",
    "    os.path.join(path, classes[1] + '/test/'),\n",
    "    os.path.join(path, classes[2] + '/test/') if n_classes == 3 else None\n",
    ")"
   ],
   "metadata": {
    "id": "fIYfGzx_-DuA",
    "pycharm": {
     "name": "#%%\n"
    }
   },
   "execution_count": 10,
   "outputs": []
  },
  {
   "cell_type": "markdown",
   "source": [
    "Let's evaluate the model"
   ],
   "metadata": {
    "id": "jAiokQerLJOI",
    "pycharm": {
     "name": "#%% md\n"
    }
   }
  },
  {
   "cell_type": "code",
   "source": [
    "evaluate(train_set, train_labels, val_set, val_labels, test_set, test_labels, model_path)"
   ],
   "metadata": {
    "colab": {
     "base_uri": "https://localhost:8080/"
    },
    "id": "Cs2geGYK_TLY",
    "outputId": "c237a7bb-4088-4b6f-db06-cad80b49b05f",
    "pycharm": {
     "name": "#%%\n"
    }
   },
   "execution_count": 11,
   "outputs": [
    {
     "output_type": "stream",
     "name": "stdout",
     "text": [
      "/content/drive/MyDrive/PhD/crickets/paper title/models/sequence classification/best3classes.keras:\n",
      "\tTrain loss: 0.9615500569343567\n",
      "\tTrain accuracy: 0.6190476417541504\n",
      "\tVal loss: 1.0471930503845215\n",
      "\tVal accuracy: 0.5833333134651184\n",
      "\tTest loss: 1.0392576456069946\n",
      "\tTest accuracy: 0.5333333611488342\n"
     ]
    }
   ]
  },
  {
   "cell_type": "markdown",
   "source": [
    "Print confusion matrix for the training set"
   ],
   "metadata": {
    "id": "m6J_058BBFto",
    "pycharm": {
     "name": "#%% md\n"
    }
   }
  },
  {
   "cell_type": "code",
   "source": [
    "conf_matrix(\n",
    "    model_path,\n",
    "    os.path.join(path, classes[0] + '/train/'),\n",
    "    os.path.join(path, classes[1] + '/train/'),\n",
    "    os.path.join(path, classes[2] + '/train/') if n_classes == 3 else None,\n",
    "    classes\n",
    ")"
   ],
   "metadata": {
    "colab": {
     "base_uri": "https://localhost:8080/",
     "height": 295
    },
    "id": "W5XQmgVC_oba",
    "outputId": "47f01e58-b760-42c4-9621-a5002e67543e",
    "pycharm": {
     "name": "#%%\n"
    }
   },
   "execution_count": 14,
   "outputs": [
    {
     "output_type": "stream",
     "name": "stdout",
     "text": [
      "2/2 [==============================] - 1s 94ms/step\n"
     ]
    },
    {
     "output_type": "display_data",
     "data": {
      "text/plain": [
       "<Figure size 432x288 with 2 Axes>"
      ],
      "image/png": "[encoded data removed]"
     },
     "metadata": {}
    }
   ]
  },
  {
   "cell_type": "markdown",
   "source": [
    "Print confusion matrix for the val set"
   ],
   "metadata": {
    "id": "2jXjc_KNBNXz",
    "pycharm": {
     "name": "#%% md\n"
    }
   }
  },
  {
   "cell_type": "code",
   "source": [
    "conf_matrix(\n",
    "    model_path,\n",
    "    os.path.join(path, classes[0] + '/val/'),\n",
    "    os.path.join(path, classes[1] + '/val/'),\n",
    "    os.path.join(path, classes[2] + '/val/') if n_classes == 3 else None,\n",
    "    classes\n",
    ")"
   ],
   "metadata": {
    "colab": {
     "base_uri": "https://localhost:8080/",
     "height": 331
    },
    "outputId": "5d9b48cd-7836-450c-d590-09d27f5d2cd2",
    "id": "5b0RFS_RBNXz",
    "pycharm": {
     "name": "#%%\n"
    }
   },
   "execution_count": 17,
   "outputs": [
    {
     "output_type": "stream",
     "name": "stderr",
     "text": [
      "WARNING:tensorflow:5 out of the last 7 calls to <function Model.make_predict_function.<locals>.predict_function at 0x7f6e055bb550> triggered tf.function retracing. Tracing is expensive and the excessive number of tracings could be due to (1) creating @tf.function repeatedly in a loop, (2) passing tensors with different shapes, (3) passing Python objects instead of tensors. For (1), please define your @tf.function outside of the loop. For (2), @tf.function has reduce_retracing=True option that can avoid unnecessary retracing. For (3), please refer to https://www.tensorflow.org/guide/function#controlling_retracing and https://www.tensorflow.org/api_docs/python/tf/function for  more details.\n"
     ]
    },
    {
     "output_type": "stream",
     "name": "stdout",
     "text": [
      "1/1 [==============================] - 0s 143ms/step\n"
     ]
    },
    {
     "output_type": "display_data",
     "data": {
      "text/plain": [
       "<Figure size 432x288 with 2 Axes>"
      ],
      "image/png": "[encoded data removed]"
     },
     "metadata": {}
    }
   ]
  },
  {
   "cell_type": "markdown",
   "source": [
    "Print confusion matrix for the test set"
   ],
   "metadata": {
    "id": "JteYTWfpBTc0",
    "pycharm": {
     "name": "#%% md\n"
    }
   }
  },
  {
   "cell_type": "code",
   "source": [
    "conf_matrix(\n",
    "    model_path,\n",
    "    os.path.join(path, classes[0] + '/test/'),\n",
    "    os.path.join(path, classes[1] + '/test/'),\n",
    "    os.path.join(path, classes[2] + '/test/') if n_classes == 3 else None,\n",
    "    classes\n",
    ")"
   ],
   "metadata": {
    "colab": {
     "base_uri": "https://localhost:8080/",
     "height": 331
    },
    "outputId": "0eb5572b-f6fb-443f-f2ad-39a59d4b9aea",
    "id": "8SrhmNvLBTc1",
    "pycharm": {
     "name": "#%%\n"
    }
   },
   "execution_count": 18,
   "outputs": [
    {
     "output_type": "stream",
     "name": "stderr",
     "text": [
      "WARNING:tensorflow:6 out of the last 8 calls to <function Model.make_predict_function.<locals>.predict_function at 0x7f6e054a3e50> triggered tf.function retracing. Tracing is expensive and the excessive number of tracings could be due to (1) creating @tf.function repeatedly in a loop, (2) passing tensors with different shapes, (3) passing Python objects instead of tensors. For (1), please define your @tf.function outside of the loop. For (2), @tf.function has reduce_retracing=True option that can avoid unnecessary retracing. For (3), please refer to https://www.tensorflow.org/guide/function#controlling_retracing and https://www.tensorflow.org/api_docs/python/tf/function for  more details.\n"
     ]
    },
    {
     "output_type": "stream",
     "name": "stdout",
     "text": [
      "1/1 [==============================] - 0s 294ms/step\n"
     ]
    },
    {
     "output_type": "display_data",
     "data": {
      "text/plain": [
       "<Figure size 432x288 with 2 Axes>"
      ],
      "image/png": "[encoded data removed]"
     },
     "metadata": {}
    }
   ]
  }
 ]
}